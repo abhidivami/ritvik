{
 "cells": [
  {
   "cell_type": "code",
   "execution_count": 1,
   "id": "8d1e710c",
   "metadata": {},
   "outputs": [],
   "source": [
    "# default_exp"
   ]
  },
  {
   "cell_type": "code",
   "execution_count": 2,
   "id": "2ea34efb",
   "metadata": {},
   "outputs": [
    {
     "name": "stdout",
     "output_type": "stream",
     "text": [
      "/Users/yeshwanth/Code/Divami/ai/ritvik\n"
     ]
    }
   ],
   "source": [
    "%cd /Users/yeshwanth/Code/Divami/ai/ritvik"
   ]
  },
  {
   "cell_type": "code",
   "execution_count": 3,
   "id": "bca51b9f",
   "metadata": {},
   "outputs": [
    {
     "data": {
      "text/plain": [
       "False"
      ]
     },
     "execution_count": 3,
     "metadata": {},
     "output_type": "execute_result"
    }
   ],
   "source": [
    "from dotenv import load_dotenv\n",
    "\n",
    "load_dotenv()"
   ]
  },
  {
   "cell_type": "code",
   "execution_count": 5,
   "id": "3f887a91",
   "metadata": {},
   "outputs": [],
   "source": [
    "# | export\n",
    "from pydantic_ai import Agent\n",
    "\n",
    "from ritvik.models import Task\n",
    "from ritvik.utils.ollama import make_ollama_model"
   ]
  },
  {
   "cell_type": "code",
   "execution_count": 6,
   "id": "7cb3dff3",
   "metadata": {},
   "outputs": [],
   "source": [
    "agent = Agent(make_ollama_model(), output_type=Task)"
   ]
  },
  {
   "cell_type": "code",
   "execution_count": 7,
   "id": "c0193978",
   "metadata": {},
   "outputs": [],
   "source": [
    "output = await agent.run(\n",
    "    \"Create a task to Yeshawnth from Dinesh regarding giving a demo on Ritvik to the client\"\n",
    ")"
   ]
  },
  {
   "cell_type": "code",
   "execution_count": 8,
   "id": "5263a16b",
   "metadata": {},
   "outputs": [
    {
     "data": {
      "text/plain": [
       "{'asigner': 'Dinesh',\n",
       " 'asignee': 'Yeshawnth',\n",
       " 'request_date': datetime.datetime(2023, 10, 10, 0, 0),\n",
       " 'task': 'give a demo on Ritvik to the client',\n",
       " 'deadline': datetime.datetime(2023, 10, 13, 0, 0),\n",
       " 'status': 'incomplete',\n",
       " 'task_id': UUID('70e7298f-69a1-44f6-a686-6b70127e3aed')}"
      ]
     },
     "execution_count": 8,
     "metadata": {},
     "output_type": "execute_result"
    }
   ],
   "source": [
    "output.output.model_dump()"
   ]
  },
  {
   "cell_type": "code",
   "execution_count": null,
   "id": "554a57c7",
   "metadata": {},
   "outputs": [],
   "source": []
  },
  {
   "cell_type": "code",
   "execution_count": null,
   "id": "df600ee6",
   "metadata": {},
   "outputs": [],
   "source": []
  }
 ],
 "metadata": {
  "kernelspec": {
   "display_name": ".venv",
   "language": "python",
   "name": "python3"
  },
  "language_info": {
   "codemirror_mode": {
    "name": "ipython",
    "version": 3
   },
   "file_extension": ".py",
   "mimetype": "text/x-python",
   "name": "python",
   "nbconvert_exporter": "python",
   "pygments_lexer": "ipython3",
   "version": "3.12.10"
  }
 },
 "nbformat": 4,
 "nbformat_minor": 5
}
