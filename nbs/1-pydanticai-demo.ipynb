{
 "cells": [
  {
   "cell_type": "code",
   "execution_count": 1,
   "id": "8d1e710c",
   "metadata": {},
   "outputs": [],
   "source": [
    "# default_exp"
   ]
  },
  {
   "cell_type": "code",
   "execution_count": 2,
   "id": "2ea34efb",
   "metadata": {},
   "outputs": [
    {
     "name": "stdout",
     "output_type": "stream",
     "text": [
      "/Users/yeshwanth/Code/Divami/ai/ritvik\n"
     ]
    }
   ],
   "source": [
    "%cd /Users/yeshwanth/Code/Divami/ai/ritvik"
   ]
  },
  {
   "cell_type": "code",
   "execution_count": 3,
   "id": "bca51b9f",
   "metadata": {},
   "outputs": [
    {
     "data": {
      "text/plain": [
       "False"
      ]
     },
     "execution_count": 3,
     "metadata": {},
     "output_type": "execute_result"
    }
   ],
   "source": [
    "from dotenv import load_dotenv\n",
    "\n",
    "load_dotenv()"
   ]
  },
  {
   "cell_type": "code",
   "execution_count": 4,
   "id": "3f887a91",
   "metadata": {},
   "outputs": [
    {
     "ename": "ModuleNotFoundError",
     "evalue": "No module named 'ritvik.utils'",
     "output_type": "error",
     "traceback": [
      "\u001b[31m---------------------------------------------------------------------------\u001b[39m",
      "\u001b[31mModuleNotFoundError\u001b[39m                       Traceback (most recent call last)",
      "\u001b[36mCell\u001b[39m\u001b[36m \u001b[39m\u001b[32mIn[4]\u001b[39m\u001b[32m, line 5\u001b[39m\n\u001b[32m      2\u001b[39m \u001b[38;5;28;01mfrom\u001b[39;00m\u001b[38;5;250m \u001b[39m\u001b[34;01mpydantic_ai\u001b[39;00m\u001b[38;5;250m \u001b[39m\u001b[38;5;28;01mimport\u001b[39;00m Agent\n\u001b[32m      4\u001b[39m \u001b[38;5;28;01mfrom\u001b[39;00m\u001b[38;5;250m \u001b[39m\u001b[34;01mritvik\u001b[39;00m\u001b[34;01m.\u001b[39;00m\u001b[34;01mmodels\u001b[39;00m\u001b[38;5;250m \u001b[39m\u001b[38;5;28;01mimport\u001b[39;00m Task\n\u001b[32m----> \u001b[39m\u001b[32m5\u001b[39m \u001b[38;5;28;01mfrom\u001b[39;00m\u001b[38;5;250m \u001b[39m\u001b[34;01mritvik\u001b[39;00m\u001b[34;01m.\u001b[39;00m\u001b[34;01mutils\u001b[39;00m\u001b[34;01m.\u001b[39;00m\u001b[34;01mollama\u001b[39;00m\u001b[38;5;250m \u001b[39m\u001b[38;5;28;01mimport\u001b[39;00m make_ollama_model\n",
      "\u001b[31mModuleNotFoundError\u001b[39m: No module named 'ritvik.utils'"
     ]
    }
   ],
   "source": [
    "# | export\n",
    "from pydantic_ai import Agent\n",
    "\n",
    "from ritvik.models import Task\n",
    "from ritvik.utils.ollama import make_ollama_model"
   ]
  },
  {
   "cell_type": "code",
   "execution_count": null,
   "id": "7cb3dff3",
   "metadata": {},
   "outputs": [],
   "source": [
    "agent = Agent(make_ollama_model(), output_type=Task)"
   ]
  },
  {
   "cell_type": "code",
   "execution_count": null,
   "id": "c0193978",
   "metadata": {},
   "outputs": [],
   "source": [
    "output = await agent.run(\n",
    "    \"Create a task to Yeshawnth from Dinesh regarding giving a demo on Ritvik to the client\"\n",
    ")"
   ]
  },
  {
   "cell_type": "code",
   "execution_count": null,
   "id": "5263a16b",
   "metadata": {},
   "outputs": [
    {
     "data": {
      "text/plain": [
       "{'asigner': 'Dinesh',\n",
       " 'asignee': 'Yeshawnth',\n",
       " 'request_date': datetime.datetime(2025, 7, 1, 0, 0),\n",
       " 'task': 'Give a demo on Ritvik to the client',\n",
       " 'deadline': datetime.datetime(2025, 7, 2, 10, 0),\n",
       " 'status': 'incomplete',\n",
       " 'task_id': UUID('982afcb2-41df-41c1-8cb2-2c51f3c9ffd5')}"
      ]
     },
     "execution_count": 20,
     "metadata": {},
     "output_type": "execute_result"
    }
   ],
   "source": [
    "output.output.model_dump()"
   ]
  },
  {
   "cell_type": "code",
   "execution_count": null,
   "id": "df600ee6",
   "metadata": {},
   "outputs": [],
   "source": []
  }
 ],
 "metadata": {
  "kernelspec": {
   "display_name": ".venv",
   "language": "python",
   "name": "python3"
  },
  "language_info": {
   "codemirror_mode": {
    "name": "ipython",
    "version": 3
   },
   "file_extension": ".py",
   "mimetype": "text/x-python",
   "name": "python",
   "nbconvert_exporter": "python",
   "pygments_lexer": "ipython3",
   "version": "3.12.10"
  }
 },
 "nbformat": 4,
 "nbformat_minor": 5
}
